{
 "cells": [
  {
   "cell_type": "code",
   "execution_count": 12,
   "metadata": {},
   "outputs": [],
   "source": [
    "import numpy as np"
   ]
  },
  {
   "cell_type": "code",
   "execution_count": 74,
   "metadata": {},
   "outputs": [
    {
     "data": {
      "text/plain": [
       "[[' ', ' ', ' ', ' ', ' ', ' ', ' ', ' '],\n",
       " [' ', ' ', ' ', ' ', ' ', ' ', ' ', ' '],\n",
       " [' ', ' ', ' ', ' ', ' ', ' ', ' ', ' '],\n",
       " [' ', ' ', ' ', ' ', ' ', ' ', ' ', ' '],\n",
       " [' ', ' ', ' ', ' ', ' ', ' ', ' ', ' '],\n",
       " [' ', ' ', ' ', ' ', ' ', ' ', ' ', ' '],\n",
       " [' ', ' ', ' ', ' ', ' ', ' ', ' ', ' '],\n",
       " [' ', ' ', ' ', ' ', ' ', ' ', ' ', ' ']]"
      ]
     },
     "execution_count": 74,
     "metadata": {},
     "output_type": "execute_result"
    }
   ],
   "source": [
    "# echiquier 8x8 cases\n",
    "def init():\n",
    "    board = [\n",
    "        [' ',' ',' ',' ',' ',' ',' ',' '],\n",
    "        [' ',' ',' ',' ',' ',' ',' ',' '],\n",
    "        [' ',' ',' ',' ',' ',' ',' ',' '],\n",
    "        [' ',' ',' ',' ',' ',' ',' ',' '],\n",
    "        [' ',' ',' ',' ',' ',' ',' ',' '],\n",
    "        [' ',' ',' ',' ',' ',' ',' ',' '],\n",
    "        [' ',' ',' ',' ',' ',' ',' ',' '],\n",
    "        [' ',' ',' ',' ',' ',' ',' ',' ']]     \n",
    "    return board\n",
    "board=init()\n",
    "board"
   ]
  },
  {
   "cell_type": "code",
   "execution_count": null,
   "metadata": {},
   "outputs": [],
   "source": [
    "def possible(x,y):\n",
    "    \n",
    "    for c in range(0,8):    # same column\n",
    "        if x+c > 7: break\n",
    "        print('sc',c,board[x+c][y])\n",
    "        if board[x+c][y] == 'Q': return False\n",
    "    for c in range(1,y+1):    # diagonal upleft\n",
    "        if x-c < 0 or y-c < 0: break\n",
    "        print('dul',c,board[x-c][y-c])\n",
    "        if board[x-c][y-c] == 'Q': return False\n",
    "    for c in range(1,y+1):    # diagonal down left\n",
    "        if y-c < 0 or x+c > 7: break\n",
    "        print('ddl',c,board[x+c][y-c])\n",
    "        if board[x+c][y-c] == 'Q': return False\n",
    "    for c in range(1,y+1):    # same row left\n",
    "        if y-c < 0 : break\n",
    "        print('srl',c,board[x][y-c])\n",
    "        if board[x][y-c] == 'Q': return False\n",
    "    return True"
   ]
  },
  {
   "cell_type": "code",
   "execution_count": null,
   "metadata": {},
   "outputs": [],
   "source": [
    "x,y = (1,1)\n",
    "for c in range(1,y+1):    # diagonal upleft\n",
    "        print('dul',c,board[x-c][y-c])\n",
    "        if x-c < 0 or y-c < 0: break\n",
    "        if board[x-c][y-c] == 'Q':  print('False')\n",
    "            "
   ]
  },
  {
   "cell_type": "code",
   "execution_count": null,
   "metadata": {},
   "outputs": [],
   "source": [
    "possible(1,1)"
   ]
  },
  {
   "cell_type": "code",
   "execution_count": null,
   "metadata": {},
   "outputs": [],
   "source": [
    "def stop():\n",
    "    r = input('stop')\n",
    "\n",
    "def solve():\n",
    "    global board\n",
    "    \n",
    "    #print(board)\n",
    "    #r = input('halt')\n",
    "    for y in range(8):       #columns\n",
    "        #success = False\n",
    "        for x in range(8):   #rows            \n",
    "            #if board[x][y]=='Q': break  \n",
    "            print('yx=',y,x,board[x][y])\n",
    "            if possible(x,y) : \n",
    "                #success = True\n",
    "                print('\\t',x,y)\n",
    "                #r = input('halt')\n",
    "                \n",
    "                board[x][y]='Q'\n",
    "                print(board)\n",
    "                stop()\n",
    "                #break\n",
    "                solve()\n",
    "                board[x][y]=' '\n",
    "            #else: \n",
    "                #board[x][y]=' ' \n",
    "                #break\n",
    "        #if not success : return\n",
    "    #solve(y+1)    \n",
    "    #print('end at',x,y)    \n",
    "    #solve()\n",
    "    #board[x][y]=' '       \n",
    "    return        "
   ]
  },
  {
   "cell_type": "code",
   "execution_count": null,
   "metadata": {},
   "outputs": [],
   "source": [
    "def init():\n",
    "    board = [\n",
    "        [' ',' ',' ',' ',' ',' ',' ',' '],\n",
    "        [' ',' ',' ',' ',' ',' ',' ',' '],\n",
    "        [' ',' ',' ',' ',' ',' ',' ',' '],\n",
    "        [' ',' ',' ',' ',' ',' ',' ',' '],\n",
    "        [' ',' ',' ',' ',' ',' ',' ',' '],\n",
    "        [' ',' ',' ',' ',' ',' ',' ',' '],\n",
    "        [' ',' ',' ',' ',' ',' ',' ',' '],\n",
    "        [' ',' ',' ',' ',' ',' ',' ',' ']]     \n",
    "    return board\n",
    "board=init()\n",
    "solve()\n",
    "board"
   ]
  },
  {
   "cell_type": "code",
   "execution_count": null,
   "metadata": {},
   "outputs": [],
   "source": []
  },
  {
   "cell_type": "code",
   "execution_count": null,
   "metadata": {},
   "outputs": [],
   "source": []
  }
 ],
 "metadata": {
  "kernelspec": {
   "display_name": "Python 3",
   "language": "python",
   "name": "python3"
  },
  "language_info": {
   "codemirror_mode": {
    "name": "ipython",
    "version": 3
   },
   "file_extension": ".py",
   "mimetype": "text/x-python",
   "name": "python",
   "nbconvert_exporter": "python",
   "pygments_lexer": "ipython3",
   "version": "3.7.3"
  }
 },
 "nbformat": 4,
 "nbformat_minor": 2
}
